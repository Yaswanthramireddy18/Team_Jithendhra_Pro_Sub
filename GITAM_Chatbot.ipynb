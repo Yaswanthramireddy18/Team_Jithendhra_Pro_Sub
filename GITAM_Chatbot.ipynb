{
 "cells": [
  {
   "cell_type": "code",
   "execution_count": 18,
   "id": "a0aa4b72-c61e-46ea-8295-57b29351418e",
   "metadata": {},
   "outputs": [],
   "source": [
    "import os\n",
    "\n",
    "os.environ[\"GIT_CLONE_PROTECTION_ACTIVE\"] = \"false\""
   ]
  },
  {
   "cell_type": "code",
   "execution_count": 20,
   "id": "7940760c-1318-412e-98d3-a6decd3a4867",
   "metadata": {},
   "outputs": [
    {
     "name": "stdout",
     "output_type": "stream",
     "text": [
      "Requirement already satisfied: optimum in c:\\users\\yaswa\\anaconda3\\lib\\site-packages (1.21.1)\n",
      "Requirement already satisfied: coloredlogs in c:\\users\\yaswa\\anaconda3\\lib\\site-packages (from optimum) (15.0.1)\n",
      "Requirement already satisfied: sympy in c:\\users\\yaswa\\anaconda3\\lib\\site-packages (from optimum) (1.12)\n",
      "Requirement already satisfied: transformers<4.43.0,>=4.26.0 in c:\\users\\yaswa\\anaconda3\\lib\\site-packages (from transformers[sentencepiece]<4.43.0,>=4.26.0->optimum) (4.41.2)\n",
      "Requirement already satisfied: torch>=1.11 in c:\\users\\yaswa\\anaconda3\\lib\\site-packages (from optimum) (2.3.1)\n",
      "Requirement already satisfied: packaging in c:\\users\\yaswa\\anaconda3\\lib\\site-packages (from optimum) (23.1)\n",
      "Requirement already satisfied: numpy<2.0 in c:\\users\\yaswa\\anaconda3\\lib\\site-packages (from optimum) (1.26.4)\n",
      "Requirement already satisfied: huggingface-hub>=0.8.0 in c:\\users\\yaswa\\anaconda3\\lib\\site-packages (from optimum) (0.23.4)\n",
      "Requirement already satisfied: datasets in c:\\users\\yaswa\\anaconda3\\lib\\site-packages (from optimum) (2.20.0)\n",
      "Requirement already satisfied: filelock in c:\\users\\yaswa\\anaconda3\\lib\\site-packages (from huggingface-hub>=0.8.0->optimum) (3.13.1)\n",
      "Requirement already satisfied: fsspec>=2023.5.0 in c:\\users\\yaswa\\anaconda3\\lib\\site-packages (from huggingface-hub>=0.8.0->optimum) (2023.10.0)\n",
      "Requirement already satisfied: pyyaml>=5.1 in c:\\users\\yaswa\\anaconda3\\lib\\site-packages (from huggingface-hub>=0.8.0->optimum) (6.0.1)\n",
      "Requirement already satisfied: requests in c:\\users\\yaswa\\anaconda3\\lib\\site-packages (from huggingface-hub>=0.8.0->optimum) (2.32.3)\n",
      "Requirement already satisfied: tqdm>=4.42.1 in c:\\users\\yaswa\\anaconda3\\lib\\site-packages (from huggingface-hub>=0.8.0->optimum) (4.66.4)\n",
      "Requirement already satisfied: typing-extensions>=3.7.4.3 in c:\\users\\yaswa\\anaconda3\\lib\\site-packages (from huggingface-hub>=0.8.0->optimum) (4.9.0)\n",
      "Requirement already satisfied: networkx in c:\\users\\yaswa\\anaconda3\\lib\\site-packages (from torch>=1.11->optimum) (3.1)\n",
      "Requirement already satisfied: jinja2 in c:\\users\\yaswa\\anaconda3\\lib\\site-packages (from torch>=1.11->optimum) (3.1.3)\n",
      "Requirement already satisfied: mkl<=2021.4.0,>=2021.1.1 in c:\\users\\yaswa\\anaconda3\\lib\\site-packages (from torch>=1.11->optimum) (2021.4.0)\n",
      "Requirement already satisfied: regex!=2019.12.17 in c:\\users\\yaswa\\anaconda3\\lib\\site-packages (from transformers<4.43.0,>=4.26.0->transformers[sentencepiece]<4.43.0,>=4.26.0->optimum) (2023.10.3)\n",
      "Requirement already satisfied: tokenizers<0.20,>=0.19 in c:\\users\\yaswa\\anaconda3\\lib\\site-packages (from transformers<4.43.0,>=4.26.0->transformers[sentencepiece]<4.43.0,>=4.26.0->optimum) (0.19.1)\n",
      "Requirement already satisfied: safetensors>=0.4.1 in c:\\users\\yaswa\\anaconda3\\lib\\site-packages (from transformers<4.43.0,>=4.26.0->transformers[sentencepiece]<4.43.0,>=4.26.0->optimum) (0.4.3)\n",
      "Requirement already satisfied: sentencepiece!=0.1.92,>=0.1.91 in c:\\users\\yaswa\\anaconda3\\lib\\site-packages (from transformers[sentencepiece]<4.43.0,>=4.26.0->optimum) (0.2.0)\n",
      "Requirement already satisfied: protobuf in c:\\users\\yaswa\\anaconda3\\lib\\site-packages (from transformers[sentencepiece]<4.43.0,>=4.26.0->optimum) (3.20.3)\n",
      "Requirement already satisfied: humanfriendly>=9.1 in c:\\users\\yaswa\\anaconda3\\lib\\site-packages (from coloredlogs->optimum) (10.0)\n",
      "Requirement already satisfied: pyarrow>=15.0.0 in c:\\users\\yaswa\\anaconda3\\lib\\site-packages (from datasets->optimum) (16.1.0)\n",
      "Requirement already satisfied: pyarrow-hotfix in c:\\users\\yaswa\\anaconda3\\lib\\site-packages (from datasets->optimum) (0.6)\n",
      "Requirement already satisfied: dill<0.3.9,>=0.3.0 in c:\\users\\yaswa\\anaconda3\\lib\\site-packages (from datasets->optimum) (0.3.8)\n",
      "Requirement already satisfied: pandas in c:\\users\\yaswa\\anaconda3\\lib\\site-packages (from datasets->optimum) (2.1.4)\n",
      "Requirement already satisfied: xxhash in c:\\users\\yaswa\\anaconda3\\lib\\site-packages (from datasets->optimum) (3.4.1)\n",
      "Requirement already satisfied: multiprocess in c:\\users\\yaswa\\anaconda3\\lib\\site-packages (from datasets->optimum) (0.70.16)\n",
      "Requirement already satisfied: aiohttp in c:\\users\\yaswa\\anaconda3\\lib\\site-packages (from datasets->optimum) (3.9.3)\n",
      "Requirement already satisfied: mpmath>=0.19 in c:\\users\\yaswa\\anaconda3\\lib\\site-packages (from sympy->optimum) (1.3.0)\n",
      "Requirement already satisfied: aiosignal>=1.1.2 in c:\\users\\yaswa\\anaconda3\\lib\\site-packages (from aiohttp->datasets->optimum) (1.2.0)\n",
      "Requirement already satisfied: attrs>=17.3.0 in c:\\users\\yaswa\\anaconda3\\lib\\site-packages (from aiohttp->datasets->optimum) (23.1.0)\n",
      "Requirement already satisfied: frozenlist>=1.1.1 in c:\\users\\yaswa\\anaconda3\\lib\\site-packages (from aiohttp->datasets->optimum) (1.4.0)\n",
      "Requirement already satisfied: multidict<7.0,>=4.5 in c:\\users\\yaswa\\anaconda3\\lib\\site-packages (from aiohttp->datasets->optimum) (6.0.4)\n",
      "Requirement already satisfied: yarl<2.0,>=1.0 in c:\\users\\yaswa\\anaconda3\\lib\\site-packages (from aiohttp->datasets->optimum) (1.9.3)\n",
      "Requirement already satisfied: pyreadline3 in c:\\users\\yaswa\\anaconda3\\lib\\site-packages (from humanfriendly>=9.1->coloredlogs->optimum) (3.4.1)\n",
      "Requirement already satisfied: intel-openmp==2021.* in c:\\users\\yaswa\\anaconda3\\lib\\site-packages (from mkl<=2021.4.0,>=2021.1.1->torch>=1.11->optimum) (2021.4.0)\n",
      "Requirement already satisfied: tbb==2021.* in c:\\users\\yaswa\\anaconda3\\lib\\site-packages (from mkl<=2021.4.0,>=2021.1.1->torch>=1.11->optimum) (2021.13.0)\n",
      "Requirement already satisfied: charset-normalizer<4,>=2 in c:\\users\\yaswa\\anaconda3\\lib\\site-packages (from requests->huggingface-hub>=0.8.0->optimum) (2.0.4)\n",
      "Requirement already satisfied: idna<4,>=2.5 in c:\\users\\yaswa\\anaconda3\\lib\\site-packages (from requests->huggingface-hub>=0.8.0->optimum) (3.4)\n",
      "Requirement already satisfied: urllib3<3,>=1.21.1 in c:\\users\\yaswa\\anaconda3\\lib\\site-packages (from requests->huggingface-hub>=0.8.0->optimum) (2.0.7)\n",
      "Requirement already satisfied: certifi>=2017.4.17 in c:\\users\\yaswa\\anaconda3\\lib\\site-packages (from requests->huggingface-hub>=0.8.0->optimum) (2024.2.2)\n",
      "Requirement already satisfied: colorama in c:\\users\\yaswa\\anaconda3\\lib\\site-packages (from tqdm>=4.42.1->huggingface-hub>=0.8.0->optimum) (0.4.6)\n",
      "Requirement already satisfied: MarkupSafe>=2.0 in c:\\users\\yaswa\\anaconda3\\lib\\site-packages (from jinja2->torch>=1.11->optimum) (2.1.3)\n",
      "Requirement already satisfied: python-dateutil>=2.8.2 in c:\\users\\yaswa\\anaconda3\\lib\\site-packages (from pandas->datasets->optimum) (2.8.2)\n",
      "Requirement already satisfied: pytz>=2020.1 in c:\\users\\yaswa\\anaconda3\\lib\\site-packages (from pandas->datasets->optimum) (2023.3.post1)\n",
      "Requirement already satisfied: tzdata>=2022.1 in c:\\users\\yaswa\\anaconda3\\lib\\site-packages (from pandas->datasets->optimum) (2023.3)\n",
      "Requirement already satisfied: six>=1.5 in c:\\users\\yaswa\\anaconda3\\lib\\site-packages (from python-dateutil>=2.8.2->pandas->datasets->optimum) (1.16.0)\n",
      "Note: you may need to restart the kernel to use updated packages.\n"
     ]
    }
   ],
   "source": [
    "%pip install optimum\n"
   ]
  },
  {
   "cell_type": "code",
   "execution_count": 21,
   "id": "dc842a4e-8c3c-46b9-be95-850a28c63bb7",
   "metadata": {},
   "outputs": [
    {
     "name": "stdout",
     "output_type": "stream",
     "text": [
      "Collecting optimum-intelNote: you may need to restart the kernel to use updated packages.\n",
      "\n",
      "  Using cached optimum_intel-1.18.0-py3-none-any.whl.metadata (16 kB)\n",
      "Requirement already satisfied: torch>=1.11 in c:\\users\\yaswa\\anaconda3\\lib\\site-packages (from optimum-intel) (2.3.1)\n",
      "Requirement already satisfied: transformers<4.42.0,>=4.36.0 in c:\\users\\yaswa\\anaconda3\\lib\\site-packages (from optimum-intel) (4.41.2)\n",
      "Requirement already satisfied: optimum~=1.20 in c:\\users\\yaswa\\anaconda3\\lib\\site-packages (from optimum-intel) (1.21.1)\n",
      "Requirement already satisfied: datasets>=1.4.0 in c:\\users\\yaswa\\anaconda3\\lib\\site-packages (from optimum-intel) (2.20.0)\n",
      "Requirement already satisfied: sentencepiece in c:\\users\\yaswa\\anaconda3\\lib\\site-packages (from optimum-intel) (0.2.0)\n",
      "Requirement already satisfied: setuptools in c:\\users\\yaswa\\anaconda3\\lib\\site-packages (from optimum-intel) (68.2.2)\n",
      "Requirement already satisfied: scipy in c:\\users\\yaswa\\anaconda3\\lib\\site-packages (from optimum-intel) (1.11.4)\n",
      "Requirement already satisfied: onnx in c:\\users\\yaswa\\anaconda3\\lib\\site-packages (from optimum-intel) (1.16.1)\n",
      "Requirement already satisfied: filelock in c:\\users\\yaswa\\anaconda3\\lib\\site-packages (from datasets>=1.4.0->optimum-intel) (3.13.1)\n",
      "Requirement already satisfied: numpy>=1.17 in c:\\users\\yaswa\\anaconda3\\lib\\site-packages (from datasets>=1.4.0->optimum-intel) (1.26.4)\n",
      "Requirement already satisfied: pyarrow>=15.0.0 in c:\\users\\yaswa\\anaconda3\\lib\\site-packages (from datasets>=1.4.0->optimum-intel) (16.1.0)\n",
      "Requirement already satisfied: pyarrow-hotfix in c:\\users\\yaswa\\anaconda3\\lib\\site-packages (from datasets>=1.4.0->optimum-intel) (0.6)\n",
      "Requirement already satisfied: dill<0.3.9,>=0.3.0 in c:\\users\\yaswa\\anaconda3\\lib\\site-packages (from datasets>=1.4.0->optimum-intel) (0.3.8)\n",
      "Requirement already satisfied: pandas in c:\\users\\yaswa\\anaconda3\\lib\\site-packages (from datasets>=1.4.0->optimum-intel) (2.1.4)\n",
      "Requirement already satisfied: requests>=2.32.2 in c:\\users\\yaswa\\anaconda3\\lib\\site-packages (from datasets>=1.4.0->optimum-intel) (2.32.3)\n",
      "Requirement already satisfied: tqdm>=4.66.3 in c:\\users\\yaswa\\anaconda3\\lib\\site-packages (from datasets>=1.4.0->optimum-intel) (4.66.4)\n",
      "Requirement already satisfied: xxhash in c:\\users\\yaswa\\anaconda3\\lib\\site-packages (from datasets>=1.4.0->optimum-intel) (3.4.1)\n",
      "Requirement already satisfied: multiprocess in c:\\users\\yaswa\\anaconda3\\lib\\site-packages (from datasets>=1.4.0->optimum-intel) (0.70.16)\n",
      "Requirement already satisfied: fsspec<=2024.5.0,>=2023.1.0 in c:\\users\\yaswa\\anaconda3\\lib\\site-packages (from fsspec[http]<=2024.5.0,>=2023.1.0->datasets>=1.4.0->optimum-intel) (2023.10.0)\n",
      "Requirement already satisfied: aiohttp in c:\\users\\yaswa\\anaconda3\\lib\\site-packages (from datasets>=1.4.0->optimum-intel) (3.9.3)\n",
      "Requirement already satisfied: huggingface-hub>=0.21.2 in c:\\users\\yaswa\\anaconda3\\lib\\site-packages (from datasets>=1.4.0->optimum-intel) (0.23.4)\n",
      "Requirement already satisfied: packaging in c:\\users\\yaswa\\anaconda3\\lib\\site-packages (from datasets>=1.4.0->optimum-intel) (23.1)\n",
      "Requirement already satisfied: pyyaml>=5.1 in c:\\users\\yaswa\\anaconda3\\lib\\site-packages (from datasets>=1.4.0->optimum-intel) (6.0.1)\n",
      "Requirement already satisfied: coloredlogs in c:\\users\\yaswa\\anaconda3\\lib\\site-packages (from optimum~=1.20->optimum-intel) (15.0.1)\n",
      "Requirement already satisfied: sympy in c:\\users\\yaswa\\anaconda3\\lib\\site-packages (from optimum~=1.20->optimum-intel) (1.12)\n",
      "Requirement already satisfied: typing-extensions>=4.8.0 in c:\\users\\yaswa\\anaconda3\\lib\\site-packages (from torch>=1.11->optimum-intel) (4.9.0)\n",
      "Requirement already satisfied: networkx in c:\\users\\yaswa\\anaconda3\\lib\\site-packages (from torch>=1.11->optimum-intel) (3.1)\n",
      "Requirement already satisfied: jinja2 in c:\\users\\yaswa\\anaconda3\\lib\\site-packages (from torch>=1.11->optimum-intel) (3.1.3)\n",
      "Requirement already satisfied: mkl<=2021.4.0,>=2021.1.1 in c:\\users\\yaswa\\anaconda3\\lib\\site-packages (from torch>=1.11->optimum-intel) (2021.4.0)\n",
      "Requirement already satisfied: regex!=2019.12.17 in c:\\users\\yaswa\\anaconda3\\lib\\site-packages (from transformers<4.42.0,>=4.36.0->optimum-intel) (2023.10.3)\n",
      "Requirement already satisfied: tokenizers<0.20,>=0.19 in c:\\users\\yaswa\\anaconda3\\lib\\site-packages (from transformers<4.42.0,>=4.36.0->optimum-intel) (0.19.1)\n",
      "Requirement already satisfied: safetensors>=0.4.1 in c:\\users\\yaswa\\anaconda3\\lib\\site-packages (from transformers<4.42.0,>=4.36.0->optimum-intel) (0.4.3)\n",
      "Requirement already satisfied: protobuf>=3.20.2 in c:\\users\\yaswa\\anaconda3\\lib\\site-packages (from onnx->optimum-intel) (3.20.3)\n",
      "Requirement already satisfied: aiosignal>=1.1.2 in c:\\users\\yaswa\\anaconda3\\lib\\site-packages (from aiohttp->datasets>=1.4.0->optimum-intel) (1.2.0)\n",
      "Requirement already satisfied: attrs>=17.3.0 in c:\\users\\yaswa\\anaconda3\\lib\\site-packages (from aiohttp->datasets>=1.4.0->optimum-intel) (23.1.0)\n",
      "Requirement already satisfied: frozenlist>=1.1.1 in c:\\users\\yaswa\\anaconda3\\lib\\site-packages (from aiohttp->datasets>=1.4.0->optimum-intel) (1.4.0)\n",
      "Requirement already satisfied: multidict<7.0,>=4.5 in c:\\users\\yaswa\\anaconda3\\lib\\site-packages (from aiohttp->datasets>=1.4.0->optimum-intel) (6.0.4)\n",
      "Requirement already satisfied: yarl<2.0,>=1.0 in c:\\users\\yaswa\\anaconda3\\lib\\site-packages (from aiohttp->datasets>=1.4.0->optimum-intel) (1.9.3)\n",
      "Requirement already satisfied: intel-openmp==2021.* in c:\\users\\yaswa\\anaconda3\\lib\\site-packages (from mkl<=2021.4.0,>=2021.1.1->torch>=1.11->optimum-intel) (2021.4.0)\n",
      "Requirement already satisfied: tbb==2021.* in c:\\users\\yaswa\\anaconda3\\lib\\site-packages (from mkl<=2021.4.0,>=2021.1.1->torch>=1.11->optimum-intel) (2021.13.0)\n",
      "Requirement already satisfied: charset-normalizer<4,>=2 in c:\\users\\yaswa\\anaconda3\\lib\\site-packages (from requests>=2.32.2->datasets>=1.4.0->optimum-intel) (2.0.4)\n",
      "Requirement already satisfied: idna<4,>=2.5 in c:\\users\\yaswa\\anaconda3\\lib\\site-packages (from requests>=2.32.2->datasets>=1.4.0->optimum-intel) (3.4)\n",
      "Requirement already satisfied: urllib3<3,>=1.21.1 in c:\\users\\yaswa\\anaconda3\\lib\\site-packages (from requests>=2.32.2->datasets>=1.4.0->optimum-intel) (2.0.7)\n",
      "Requirement already satisfied: certifi>=2017.4.17 in c:\\users\\yaswa\\anaconda3\\lib\\site-packages (from requests>=2.32.2->datasets>=1.4.0->optimum-intel) (2024.2.2)\n",
      "Requirement already satisfied: colorama in c:\\users\\yaswa\\anaconda3\\lib\\site-packages (from tqdm>=4.66.3->datasets>=1.4.0->optimum-intel) (0.4.6)\n",
      "Requirement already satisfied: humanfriendly>=9.1 in c:\\users\\yaswa\\anaconda3\\lib\\site-packages (from coloredlogs->optimum~=1.20->optimum-intel) (10.0)\n",
      "Requirement already satisfied: MarkupSafe>=2.0 in c:\\users\\yaswa\\anaconda3\\lib\\site-packages (from jinja2->torch>=1.11->optimum-intel) (2.1.3)\n",
      "Requirement already satisfied: python-dateutil>=2.8.2 in c:\\users\\yaswa\\anaconda3\\lib\\site-packages (from pandas->datasets>=1.4.0->optimum-intel) (2.8.2)\n",
      "Requirement already satisfied: pytz>=2020.1 in c:\\users\\yaswa\\anaconda3\\lib\\site-packages (from pandas->datasets>=1.4.0->optimum-intel) (2023.3.post1)\n",
      "Requirement already satisfied: tzdata>=2022.1 in c:\\users\\yaswa\\anaconda3\\lib\\site-packages (from pandas->datasets>=1.4.0->optimum-intel) (2023.3)\n",
      "Requirement already satisfied: mpmath>=0.19 in c:\\users\\yaswa\\anaconda3\\lib\\site-packages (from sympy->optimum~=1.20->optimum-intel) (1.3.0)\n",
      "Requirement already satisfied: pyreadline3 in c:\\users\\yaswa\\anaconda3\\lib\\site-packages (from humanfriendly>=9.1->coloredlogs->optimum~=1.20->optimum-intel) (3.4.1)\n",
      "Requirement already satisfied: six>=1.5 in c:\\users\\yaswa\\anaconda3\\lib\\site-packages (from python-dateutil>=2.8.2->pandas->datasets>=1.4.0->optimum-intel) (1.16.0)\n",
      "Using cached optimum_intel-1.18.0-py3-none-any.whl (223 kB)\n",
      "Installing collected packages: optimum-intel\n",
      "Successfully installed optimum-intel-1.18.0\n"
     ]
    }
   ],
   "source": [
    "%pip install optimum-intel\n"
   ]
  },
  {
   "cell_type": "code",
   "execution_count": 22,
   "id": "b69911c4-c4fd-44d4-acd5-9158ea23c8a0",
   "metadata": {},
   "outputs": [
    {
     "name": "stdout",
     "output_type": "stream",
     "text": [
      "Note: you may need to restart the kernel to use updated packages.\n"
     ]
    }
   ],
   "source": [
    "%pip install -Uq pip"
   ]
  },
  {
   "cell_type": "code",
   "execution_count": 23,
   "id": "24428ccc-326c-454a-a754-d98452d71cb5",
   "metadata": {},
   "outputs": [
    {
     "name": "stdout",
     "output_type": "stream",
     "text": [
      "Note: you may need to restart the kernel to use updated packages.\n"
     ]
    }
   ],
   "source": [
    "%pip uninstall -q -y optimum optimum-intel"
   ]
  },
  {
   "cell_type": "code",
   "execution_count": 24,
   "id": "a1e4d950-b14f-4c7c-843d-ebbde1ad17ec",
   "metadata": {},
   "outputs": [
    {
     "name": "stdout",
     "output_type": "stream",
     "text": [
      "Note: you may need to restart the kernel to use updated packages.\n",
      "Note: you may need to restart the kernel to use updated packages.\n"
     ]
    }
   ],
   "source": [
    "%pip install --pre -Uq openvino openvino-tokenizers[transformers] --extra-index-url https://storage.openvinotoolkit.org/simple/wheels/nightly\n",
    "%pip install -q --extra-index-url https://download.pytorch.org/whl/cpu\\\n",
    "\"git+https://github.com/huggingface/optimum-intel.git\"\\\n",
    "\"git+https://github.com/openvinotoolkit/nncf.git\"\\\n",
    "\"torch>=2.1\"\\\n",
    "\"datasets\" \\\n",
    "\"accelerate\"\\\n",
    "\"gradio>=4.19\"\\\n",
    "\"onnx\" \"einops\" \"transformers_stream_generator\" \"tiktoken\" \"transformers>=4.40\" \"bitsandbytes\""
   ]
  },
  {
   "cell_type": "code",
   "execution_count": 25,
   "id": "b1f31fcf-a643-4d66-b837-32c674dd5854",
   "metadata": {},
   "outputs": [],
   "source": [
    "import os\n",
    "from pathlib import Path\n",
    "import requests\n",
    "import shutil\n"
   ]
  },
  {
   "cell_type": "code",
   "execution_count": 26,
   "id": "f9c96019-0586-44da-9a46-ab1e8b95cabe",
   "metadata": {},
   "outputs": [
    {
     "name": "stdout",
     "output_type": "stream",
     "text": [
      "LLM config will be updated\n"
     ]
    }
   ],
   "source": [
    "config_shared_path = Path(\"../../utils/llm_config.py\")\n",
    "config_dst_path = Path(\"llm_config.py\")\n",
    "\n",
    "if not config_dst_path.exists():\n",
    "    if config_shared_path.exists():\n",
    "        try:\n",
    "            os.symlink(config_shared_path, config_dst_path)\n",
    "        except Exception:\n",
    "            shutil.copy(config_shared_path, config_dst_path)\n",
    "    else:\n",
    "        r = requests.get(url=\"https://raw.githubusercontent.com/openvinotoolkit/openvino_notebooks/latest/utils/llm_config.py\")\n",
    "        with open(\"llm_config.py\", \"w\", encoding=\"utf-8\") as f:\n",
    "            f.write(r.text)\n",
    "elif not os.path.islink(config_dst_path):\n",
    "    print(\"LLM config will be updated\")\n",
    "    if config_shared_path.exists():\n",
    "        shutil.copy(config_shared_path, config_dst_path)\n",
    "    else:\n",
    "        r = requests.get(url=\"https://raw.githubusercontent.com/openvinotoolkit/openvino_notebooks/latest/utils/llm_config.py\")\n",
    "        with open(\"llm_config.py\", \"w\", encoding=\"utf-8\") as f:\n",
    "            f.write(r.text)"
   ]
  },
  {
   "cell_type": "code",
   "execution_count": 27,
   "id": "a7f04ec8-67e5-4f0d-b61b-f3a9bc1578b9",
   "metadata": {},
   "outputs": [
    {
     "name": "stdout",
     "output_type": "stream",
     "text": [
      "Authorization token already provided\n"
     ]
    }
   ],
   "source": [
    "from huggingface_hub import notebook_login, whoami\n",
    "\n",
    "try:\n",
    "    whoami()\n",
    "    print('Authorization token already provided')\n",
    "except OSError:\n",
    "    notebook_login()\n"
   ]
  },
  {
   "cell_type": "code",
   "execution_count": 28,
   "id": "cdc334ac-aec1-4182-8bf6-0432c28f185e",
   "metadata": {},
   "outputs": [],
   "source": [
    "from llm_config import SUPPORTED_LLM_MODELS\n",
    "import ipywidgets as widgets"
   ]
  },
  {
   "cell_type": "code",
   "execution_count": 29,
   "id": "0e1d09b5-0391-4bba-b028-c0d85cbf2606",
   "metadata": {},
   "outputs": [
    {
     "data": {
      "application/vnd.jupyter.widget-view+json": {
       "model_id": "6c2142923d7c4069964ffa077b94de8a",
       "version_major": 2,
       "version_minor": 0
      },
      "text/plain": [
       "Dropdown(description='Model Language:', options=('English', 'Chinese', 'Japanese'), value='English')"
      ]
     },
     "execution_count": 29,
     "metadata": {},
     "output_type": "execute_result"
    }
   ],
   "source": [
    "model_languages = list(SUPPORTED_LLM_MODELS)\n",
    "\n",
    "model_language = widgets.Dropdown(\n",
    "    options=model_languages,\n",
    "    value=model_languages[0],\n",
    "    description=\"Model Language:\",\n",
    "    disabled=False,\n",
    ")\n",
    "\n",
    "model_language"
   ]
  },
  {
   "cell_type": "code",
   "execution_count": 30,
   "id": "2e671385-6246-4545-848a-7d041756cdf0",
   "metadata": {},
   "outputs": [
    {
     "data": {
      "application/vnd.jupyter.widget-view+json": {
       "model_id": "1476e4e0f5c743e4a28c4e904fab363a",
       "version_major": 2,
       "version_minor": 0
      },
      "text/plain": [
       "Dropdown(description='Model:', options=('qwen2-0.5b-instruct', 'tiny-llama-1b-chat', 'qwen2-1.5b-instruct', 'g…"
      ]
     },
     "execution_count": 30,
     "metadata": {},
     "output_type": "execute_result"
    }
   ],
   "source": [
    "model_ids = list(SUPPORTED_LLM_MODELS[model_language.value])\n",
    "\n",
    "model_id = widgets.Dropdown(\n",
    "    options=model_ids,\n",
    "    value=model_ids[0],\n",
    "    description=\"Model:\",\n",
    "    disabled=False,\n",
    ")\n",
    "\n",
    "model_id"
   ]
  },
  {
   "cell_type": "code",
   "execution_count": 31,
   "id": "c292194a-04cb-4d48-bfc8-068b30cb3723",
   "metadata": {},
   "outputs": [
    {
     "name": "stdout",
     "output_type": "stream",
     "text": [
      "Selected model llama-3-8b-instruct\n"
     ]
    }
   ],
   "source": [
    "model_configuration = SUPPORTED_LLM_MODELS[model_language.value][model_id.value]\n",
    "print(f\"Selected model {model_id.value}\")"
   ]
  },
  {
   "cell_type": "code",
   "execution_count": 32,
   "id": "da293469-4296-49b4-afe5-368e55c16cf2",
   "metadata": {},
   "outputs": [
    {
     "data": {
      "application/vnd.jupyter.widget-view+json": {
       "model_id": "5e956b67877f4a1fbf147e205d1cc2c6",
       "version_major": 2,
       "version_minor": 0
      },
      "text/plain": [
       "Checkbox(value=True, description='Prepare INT4 model')"
      ]
     },
     "metadata": {},
     "output_type": "display_data"
    },
    {
     "data": {
      "application/vnd.jupyter.widget-view+json": {
       "model_id": "6963557e956447a88a97e379fcd1065a",
       "version_major": 2,
       "version_minor": 0
      },
      "text/plain": [
       "Checkbox(value=False, description='Prepare INT8 model')"
      ]
     },
     "metadata": {},
     "output_type": "display_data"
    },
    {
     "data": {
      "application/vnd.jupyter.widget-view+json": {
       "model_id": "6b6926edbe4b42e296a828611c9f0c44",
       "version_major": 2,
       "version_minor": 0
      },
      "text/plain": [
       "Checkbox(value=False, description='Prepare FP16 model')"
      ]
     },
     "metadata": {},
     "output_type": "display_data"
    }
   ],
   "source": [
    "from IPython.display import Markdown, display\n",
    "\n",
    "prepare_int4_model = widgets.Checkbox(\n",
    "    value=True,\n",
    "    description=\"Prepare INT4 model\",\n",
    "    disabled=False,\n",
    ")\n",
    "prepare_int8_model = widgets.Checkbox(\n",
    "    value=False,\n",
    "    description=\"Prepare INT8 model\",\n",
    "    disabled=False,\n",
    ")\n",
    "prepare_fp16_model = widgets.Checkbox(\n",
    "    value=False,\n",
    "    description=\"Prepare FP16 model\",\n",
    "    disabled=False,\n",
    ")\n",
    "\n",
    "display(prepare_int4_model)\n",
    "display(prepare_int8_model)\n",
    "display(prepare_fp16_model)"
   ]
  },
  {
   "cell_type": "code",
   "execution_count": 33,
   "id": "762e4ba3-9d0c-4496-b56b-69df169f041d",
   "metadata": {},
   "outputs": [
    {
     "data": {
      "application/vnd.jupyter.widget-view+json": {
       "model_id": "6408dfac79cf48a0866a1a520c946e63",
       "version_major": 2,
       "version_minor": 0
      },
      "text/plain": [
       "Checkbox(value=False, description='Enable AWQ')"
      ]
     },
     "metadata": {},
     "output_type": "display_data"
    }
   ],
   "source": [
    "enable_awq = widgets.Checkbox(\n",
    "    value=False,\n",
    "    description=\"Enable AWQ\",\n",
    "    disabled=not prepare_int4_model.value,\n",
    ")\n",
    "display(enable_awq)"
   ]
  },
  {
   "cell_type": "code",
   "execution_count": 34,
   "id": "e61e92fb-05ce-4ce0-8e60-39341319d9c8",
   "metadata": {},
   "outputs": [],
   "source": [
    "from pathlib import Path\n",
    "\n",
    "pt_model_id = model_configuration[\"model_id\"]\n",
    "pt_model_name = model_id.value.split(\"-\")[0]\n",
    "fp16_model_dir = Path(model_id.value) / \"FP16\"\n",
    "int8_model_dir = Path(model_id.value) / \"INT8_compressed_weights\"\n",
    "int4_model_dir = Path(model_id.value) / \"INT4_compressed_weights\"\n",
    "\n",
    "\n",
    "def convert_to_fp16():\n",
    "    if (fp16_model_dir / \"openvino_model.xml\").exists():\n",
    "        return\n",
    "    remote_code = model_configuration.get(\"remote_code\", False)\n",
    "    export_command_base = \"optimum-cli export openvino --model {} --task text-generation-with-past --weight-format fp16\".format(pt_model_id)\n",
    "    if remote_code:\n",
    "        export_command_base += \" --trust-remote-code\"\n",
    "    export_command = export_command_base + \" \" + str(fp16_model_dir)\n",
    "    display(Markdown(\"**Export command:**\"))\n",
    "    display(Markdown(f\"`{export_command}`\"))\n",
    "    ! $export_command\n",
    "\n",
    "\n",
    "def convert_to_int8():\n",
    "    if (int8_model_dir / \"openvino_model.xml\").exists():\n",
    "        return\n",
    "    int8_model_dir.mkdir(parents=True, exist_ok=True)\n",
    "    remote_code = model_configuration.get(\"remote_code\", False)\n",
    "    export_command_base = \"optimum-cli export openvino --model {} --task text-generation-with-past --weight-format int8\".format(pt_model_id)\n",
    "    if remote_code:\n",
    "        export_command_base += \" --trust-remote-code\"\n",
    "    export_command = export_command_base + \" \" + str(int8_model_dir)\n",
    "    display(Markdown(\"**Export command:**\"))\n",
    "    display(Markdown(f\"`{export_command}`\"))\n",
    "    ! $export_command\n",
    "\n",
    "\n",
    "def convert_to_int4():\n",
    "    compression_configs = {\n",
    "        \"zephyr-7b-beta\": {\n",
    "            \"sym\": True,\n",
    "            \"group_size\": 64,\n",
    "            \"ratio\": 0.6,\n",
    "        },\n",
    "        \"mistral-7b\": {\n",
    "            \"sym\": True,\n",
    "            \"group_size\": 64,\n",
    "            \"ratio\": 0.6,\n",
    "        },\n",
    "        \"minicpm-2b-dpo\": {\n",
    "            \"sym\": True,\n",
    "            \"group_size\": 64,\n",
    "            \"ratio\": 0.6,\n",
    "        },\n",
    "        \"gemma-2b-it\": {\n",
    "            \"sym\": True,\n",
    "            \"group_size\": 64,\n",
    "            \"ratio\": 0.6,\n",
    "        },\n",
    "        \"notus-7b-v1\": {\n",
    "            \"sym\": True,\n",
    "            \"group_size\": 64,\n",
    "            \"ratio\": 0.6,\n",
    "        },\n",
    "        \"neural-chat-7b-v3-1\": {\n",
    "            \"sym\": True,\n",
    "            \"group_size\": 64,\n",
    "            \"ratio\": 0.6,\n",
    "        },\n",
    "        \"llama-2-chat-7b\": {\n",
    "            \"sym\": True,\n",
    "            \"group_size\": 128,\n",
    "            \"ratio\": 0.8,\n",
    "        },\n",
    "        \"llama-3-8b-instruct\": {\n",
    "            \"sym\": True,\n",
    "            \"group_size\": 128,\n",
    "            \"ratio\": 0.8,\n",
    "        },\n",
    "        \"gemma-7b-it\": {\n",
    "            \"sym\": True,\n",
    "            \"group_size\": 128,\n",
    "            \"ratio\": 0.8,\n",
    "        },\n",
    "        \"chatglm2-6b\": {\n",
    "            \"sym\": True,\n",
    "            \"group_size\": 128,\n",
    "            \"ratio\": 0.72,\n",
    "        },\n",
    "        \"qwen-7b-chat\": {\"sym\": True, \"group_size\": 128, \"ratio\": 0.6},\n",
    "        \"red-pajama-3b-chat\": {\n",
    "            \"sym\": False,\n",
    "            \"group_size\": 128,\n",
    "            \"ratio\": 0.5,\n",
    "        },\n",
    "        \"default\": {\n",
    "            \"sym\": False,\n",
    "            \"group_size\": 128,\n",
    "            \"ratio\": 0.8,\n",
    "        },\n",
    "    }\n",
    "\n",
    "    model_compression_params = compression_configs.get(model_id.value, compression_configs[\"default\"])\n",
    "    if (int4_model_dir / \"openvino_model.xml\").exists():\n",
    "        return\n",
    "    remote_code = model_configuration.get(\"remote_code\", False)\n",
    "    export_command_base = \"optimum-cli export openvino --model {} --task text-generation-with-past --weight-format int4\".format(pt_model_id)\n",
    "    int4_compression_args = \" --group-size {} --ratio {}\".format(model_compression_params[\"group_size\"], model_compression_params[\"ratio\"])\n",
    "    if model_compression_params[\"sym\"]:\n",
    "        int4_compression_args += \" --sym\"\n",
    "    if enable_awq.value:\n",
    "        int4_compression_args += \" --awq --dataset wikitext2 --num-samples 128\"\n",
    "    export_command_base += int4_compression_args\n",
    "    if remote_code:\n",
    "        export_command_base += \" --trust-remote-code\"\n",
    "    export_command = export_command_base + \" \" + str(int4_model_dir)\n",
    "    display(Markdown(\"**Export command:**\"))\n",
    "    display(Markdown(f\"`{export_command}`\"))\n",
    "    ! $export_command\n",
    "\n",
    "\n",
    "if prepare_fp16_model.value:\n",
    "    convert_to_fp16()\n",
    "if prepare_int8_model.value:\n",
    "    convert_to_int8()\n",
    "if prepare_int4_model.value:\n",
    "    convert_to_int4()"
   ]
  },
  {
   "cell_type": "code",
   "execution_count": 35,
   "id": "c4558ad6-1984-4d5d-9f85-13a674d9f684",
   "metadata": {},
   "outputs": [
    {
     "name": "stdout",
     "output_type": "stream",
     "text": [
      "Size of model with INT4 compressed weights is 5085.79 MB\n"
     ]
    }
   ],
   "source": [
    "fp16_weights = fp16_model_dir / \"openvino_model.bin\"\n",
    "int8_weights = int8_model_dir / \"openvino_model.bin\"\n",
    "int4_weights = int4_model_dir / \"openvino_model.bin\"\n",
    "\n",
    "if fp16_weights.exists():\n",
    "    print(f\"Size of FP16 model is {fp16_weights.stat().st_size / 1024 / 1024:.2f} MB\")\n",
    "for precision, compressed_weights in zip([8, 4], [int8_weights, int4_weights]):\n",
    "    if compressed_weights.exists():\n",
    "        print(f\"Size of model with INT{precision} compressed weights is {compressed_weights.stat().st_size / 1024 / 1024:.2f} MB\")\n",
    "    if compressed_weights.exists() and fp16_weights.exists():\n",
    "        print(f\"Compression rate for INT{precision} model: {fp16_weights.stat().st_size / compressed_weights.stat().st_size:.3f}\")"
   ]
  },
  {
   "cell_type": "code",
   "execution_count": 36,
   "id": "0fa2f29b-479c-42b1-a09f-d838361a3e82",
   "metadata": {},
   "outputs": [
    {
     "data": {
      "application/vnd.jupyter.widget-view+json": {
       "model_id": "6880325bf56141ab92a3a1f324bf73c1",
       "version_major": 2,
       "version_minor": 0
      },
      "text/plain": [
       "Dropdown(description='Device:', options=('CPU', 'GPU', 'AUTO'), value='CPU')"
      ]
     },
     "execution_count": 36,
     "metadata": {},
     "output_type": "execute_result"
    }
   ],
   "source": [
    "import openvino as ov\n",
    "\n",
    "core = ov.Core()\n",
    "\n",
    "support_devices = core.available_devices\n",
    "if \"NPU\" in support_devices:\n",
    "    support_devices.remove(\"NPU\")\n",
    "\n",
    "device = widgets.Dropdown(\n",
    "    options=support_devices + [\"AUTO\"],\n",
    "    value=\"CPU\",\n",
    "    description=\"Device:\",\n",
    "    disabled=False,\n",
    ")\n",
    "\n",
    "device"
   ]
  },
  {
   "cell_type": "code",
   "execution_count": 37,
   "id": "80cedabc-a3ea-42f2-9717-c3e7e38cc35a",
   "metadata": {},
   "outputs": [
    {
     "data": {
      "application/vnd.jupyter.widget-view+json": {
       "model_id": "f59fc833833b4248a1ae55fa38905306",
       "version_major": 2,
       "version_minor": 0
      },
      "text/plain": [
       "Dropdown(description='Model to run:', options=('INT4',), value='INT4')"
      ]
     },
     "execution_count": 37,
     "metadata": {},
     "output_type": "execute_result"
    }
   ],
   "source": [
    "available_models = []\n",
    "if int4_model_dir.exists():\n",
    "    available_models.append(\"INT4\")\n",
    "if int8_model_dir.exists():\n",
    "    available_models.append(\"INT8\")\n",
    "if fp16_model_dir.exists():\n",
    "    available_models.append(\"FP16\")\n",
    "\n",
    "model_to_run = widgets.Dropdown(\n",
    "    options=available_models,\n",
    "    value=available_models[0],\n",
    "    description=\"Model to run:\",\n",
    "    disabled=False,\n",
    ")\n",
    "\n",
    "model_to_run"
   ]
  },
  {
   "cell_type": "code",
   "execution_count": 38,
   "id": "55997b73-6ea2-4653-9df8-468bffed5d70",
   "metadata": {},
   "outputs": [
    {
     "name": "stdout",
     "output_type": "stream",
     "text": [
      "Loading model from llama-3-8b-instruct\\INT4_compressed_weights\n"
     ]
    },
    {
     "name": "stderr",
     "output_type": "stream",
     "text": [
      "Special tokens have been added in the vocabulary, make sure the associated word embeddings are fine-tuned or trained.\n",
      "The argument `trust_remote_code` is to be used along with export=True. It will be ignored.\n",
      "Compiling the model to CPU ...\n"
     ]
    }
   ],
   "source": [
    "from transformers import AutoConfig, AutoTokenizer\n",
    "from optimum.intel.openvino import OVModelForCausalLM\n",
    "\n",
    "if model_to_run.value == \"INT4\":\n",
    "    model_dir = int4_model_dir\n",
    "elif model_to_run.value == \"INT8\":\n",
    "    model_dir = int8_model_dir\n",
    "else:\n",
    "    model_dir = fp16_model_dir\n",
    "print(f\"Loading model from {model_dir}\")\n",
    "\n",
    "ov_config = {\"PERFORMANCE_HINT\": \"LATENCY\", \"NUM_STREAMS\": \"1\", \"CACHE_DIR\": \"\"}\n",
    "\n",
    "if \"GPU\" in device.value and \"qwen2-7b-instruct\" in model_id.value:\n",
    "    ov_config[\"GPU_ENABLE_SDPA_OPTIMIZATION\"] = \"NO\"\n",
    "\n",
    "\n",
    "if model_id.value == \"red-pajama-3b-chat\" and \"GPU\" in core.available_devices and device.value in [\"GPU\", \"AUTO\"]:\n",
    "    ov_config[\"INFERENCE_PRECISION_HINT\"] = \"f32\"\n",
    "\n",
    "model_name = model_configuration[\"model_id\"]\n",
    "tok = AutoTokenizer.from_pretrained(model_dir, trust_remote_code=True)\n",
    "\n",
    "ov_model = OVModelForCausalLM.from_pretrained(\n",
    "    model_dir,\n",
    "    device=device.value,\n",
    "    ov_config=ov_config,\n",
    "    config=AutoConfig.from_pretrained(model_dir, trust_remote_code=True),\n",
    "    trust_remote_code=True,\n",
    ")"
   ]
  },
  {
   "cell_type": "code",
   "execution_count": null,
   "id": "23ecff66-1342-459f-8c8c-2d57f02c3ac2",
   "metadata": {},
   "outputs": [
    {
     "name": "stderr",
     "output_type": "stream",
     "text": [
      "Setting `pad_token_id` to `eos_token_id`:128001 for open-end generation.\n"
     ]
    }
   ],
   "source": [
    "tokenizer_kwargs = model_configuration.get(\"tokenizer_kwargs\", {})\n",
    "test_string = \"10+20 =\"\n",
    "input_tokens = tok(test_string, return_tensors=\"pt\", **tokenizer_kwargs)\n",
    "answer = ov_model.generate(**input_tokens, max_new_tokens=2)\n",
    "print(tok.batch_decode(answer, skip_special_tokens=True)[0])"
   ]
  },
  {
   "cell_type": "code",
   "execution_count": 15,
   "id": "22b4d2ca-cf8b-455e-8658-dbc1c9ce46e4",
   "metadata": {},
   "outputs": [
    {
     "name": "stdout",
     "output_type": "stream",
     "text": [
      "Requirement already satisfied: gradio in c:\\users\\yaswa\\anaconda3\\lib\\site-packages (4.36.1)\n",
      "Requirement already satisfied: transformers in c:\\users\\yaswa\\anaconda3\\lib\\site-packages (4.41.2)\n",
      "Requirement already satisfied: torch in c:\\users\\yaswa\\anaconda3\\lib\\site-packages (2.3.1)\n",
      "Requirement already satisfied: aiofiles<24.0,>=22.0 in c:\\users\\yaswa\\anaconda3\\lib\\site-packages (from gradio) (23.2.1)\n",
      "Requirement already satisfied: altair<6.0,>=4.2.0 in c:\\users\\yaswa\\anaconda3\\lib\\site-packages (from gradio) (5.0.1)\n",
      "Requirement already satisfied: fastapi in c:\\users\\yaswa\\anaconda3\\lib\\site-packages (from gradio) (0.111.0)\n",
      "Requirement already satisfied: ffmpy in c:\\users\\yaswa\\anaconda3\\lib\\site-packages (from gradio) (0.3.2)\n",
      "Requirement already satisfied: gradio-client==1.0.1 in c:\\users\\yaswa\\anaconda3\\lib\\site-packages (from gradio) (1.0.1)\n",
      "Requirement already satisfied: httpx>=0.24.1 in c:\\users\\yaswa\\anaconda3\\lib\\site-packages (from gradio) (0.27.0)\n",
      "Requirement already satisfied: huggingface-hub>=0.19.3 in c:\\users\\yaswa\\anaconda3\\lib\\site-packages (from gradio) (0.23.4)\n",
      "Requirement already satisfied: importlib-resources<7.0,>=1.3 in c:\\users\\yaswa\\anaconda3\\lib\\site-packages (from gradio) (6.4.0)\n",
      "Requirement already satisfied: jinja2<4.0 in c:\\users\\yaswa\\anaconda3\\lib\\site-packages (from gradio) (3.1.3)\n",
      "Requirement already satisfied: markupsafe~=2.0 in c:\\users\\yaswa\\anaconda3\\lib\\site-packages (from gradio) (2.1.3)\n",
      "Requirement already satisfied: matplotlib~=3.0 in c:\\users\\yaswa\\anaconda3\\lib\\site-packages (from gradio) (3.8.0)\n",
      "Requirement already satisfied: numpy<3.0,>=1.0 in c:\\users\\yaswa\\anaconda3\\lib\\site-packages (from gradio) (1.26.4)\n",
      "Requirement already satisfied: orjson~=3.0 in c:\\users\\yaswa\\anaconda3\\lib\\site-packages (from gradio) (3.10.5)\n",
      "Requirement already satisfied: packaging in c:\\users\\yaswa\\anaconda3\\lib\\site-packages (from gradio) (23.1)\n",
      "Requirement already satisfied: pandas<3.0,>=1.0 in c:\\users\\yaswa\\anaconda3\\lib\\site-packages (from gradio) (2.1.4)\n",
      "Requirement already satisfied: pillow<11.0,>=8.0 in c:\\users\\yaswa\\anaconda3\\lib\\site-packages (from gradio) (10.2.0)\n",
      "Requirement already satisfied: pydantic>=2.0 in c:\\users\\yaswa\\anaconda3\\lib\\site-packages (from gradio) (2.7.4)\n",
      "Requirement already satisfied: pydub in c:\\users\\yaswa\\anaconda3\\lib\\site-packages (from gradio) (0.25.1)\n",
      "Requirement already satisfied: python-multipart>=0.0.9 in c:\\users\\yaswa\\anaconda3\\lib\\site-packages (from gradio) (0.0.9)\n",
      "Requirement already satisfied: pyyaml<7.0,>=5.0 in c:\\users\\yaswa\\anaconda3\\lib\\site-packages (from gradio) (6.0.1)\n",
      "Requirement already satisfied: ruff>=0.2.2 in c:\\users\\yaswa\\anaconda3\\lib\\site-packages (from gradio) (0.4.10)\n",
      "Requirement already satisfied: semantic-version~=2.0 in c:\\users\\yaswa\\anaconda3\\lib\\site-packages (from gradio) (2.10.0)\n",
      "Requirement already satisfied: tomlkit==0.12.0 in c:\\users\\yaswa\\anaconda3\\lib\\site-packages (from gradio) (0.12.0)\n",
      "Requirement already satisfied: typer<1.0,>=0.12 in c:\\users\\yaswa\\anaconda3\\lib\\site-packages (from gradio) (0.12.3)\n",
      "Requirement already satisfied: typing-extensions~=4.0 in c:\\users\\yaswa\\anaconda3\\lib\\site-packages (from gradio) (4.9.0)\n",
      "Requirement already satisfied: urllib3~=2.0 in c:\\users\\yaswa\\anaconda3\\lib\\site-packages (from gradio) (2.0.7)\n",
      "Requirement already satisfied: uvicorn>=0.14.0 in c:\\users\\yaswa\\anaconda3\\lib\\site-packages (from gradio) (0.30.1)\n",
      "Requirement already satisfied: fsspec in c:\\users\\yaswa\\anaconda3\\lib\\site-packages (from gradio-client==1.0.1->gradio) (2023.10.0)\n",
      "Requirement already satisfied: websockets<12.0,>=10.0 in c:\\users\\yaswa\\anaconda3\\lib\\site-packages (from gradio-client==1.0.1->gradio) (11.0.3)\n",
      "Requirement already satisfied: filelock in c:\\users\\yaswa\\anaconda3\\lib\\site-packages (from transformers) (3.13.1)\n",
      "Requirement already satisfied: regex!=2019.12.17 in c:\\users\\yaswa\\anaconda3\\lib\\site-packages (from transformers) (2023.10.3)\n",
      "Requirement already satisfied: requests in c:\\users\\yaswa\\anaconda3\\lib\\site-packages (from transformers) (2.32.3)\n",
      "Requirement already satisfied: tokenizers<0.20,>=0.19 in c:\\users\\yaswa\\anaconda3\\lib\\site-packages (from transformers) (0.19.1)\n",
      "Requirement already satisfied: safetensors>=0.4.1 in c:\\users\\yaswa\\anaconda3\\lib\\site-packages (from transformers) (0.4.3)\n",
      "Requirement already satisfied: tqdm>=4.27 in c:\\users\\yaswa\\anaconda3\\lib\\site-packages (from transformers) (4.66.4)\n",
      "Requirement already satisfied: sympy in c:\\users\\yaswa\\anaconda3\\lib\\site-packages (from torch) (1.12)\n",
      "Requirement already satisfied: networkx in c:\\users\\yaswa\\anaconda3\\lib\\site-packages (from torch) (3.1)\n",
      "Requirement already satisfied: mkl<=2021.4.0,>=2021.1.1 in c:\\users\\yaswa\\anaconda3\\lib\\site-packages (from torch) (2021.4.0)\n",
      "Requirement already satisfied: jsonschema>=3.0 in c:\\users\\yaswa\\anaconda3\\lib\\site-packages (from altair<6.0,>=4.2.0->gradio) (4.19.2)\n",
      "Requirement already satisfied: toolz in c:\\users\\yaswa\\anaconda3\\lib\\site-packages (from altair<6.0,>=4.2.0->gradio) (0.12.0)\n",
      "Requirement already satisfied: anyio in c:\\users\\yaswa\\anaconda3\\lib\\site-packages (from httpx>=0.24.1->gradio) (4.2.0)\n",
      "Requirement already satisfied: certifi in c:\\users\\yaswa\\anaconda3\\lib\\site-packages (from httpx>=0.24.1->gradio) (2024.2.2)\n",
      "Requirement already satisfied: httpcore==1.* in c:\\users\\yaswa\\anaconda3\\lib\\site-packages (from httpx>=0.24.1->gradio) (1.0.5)\n",
      "Requirement already satisfied: idna in c:\\users\\yaswa\\anaconda3\\lib\\site-packages (from httpx>=0.24.1->gradio) (3.4)\n",
      "Requirement already satisfied: sniffio in c:\\users\\yaswa\\anaconda3\\lib\\site-packages (from httpx>=0.24.1->gradio) (1.3.0)\n",
      "Requirement already satisfied: h11<0.15,>=0.13 in c:\\users\\yaswa\\anaconda3\\lib\\site-packages (from httpcore==1.*->httpx>=0.24.1->gradio) (0.14.0)\n",
      "Requirement already satisfied: contourpy>=1.0.1 in c:\\users\\yaswa\\anaconda3\\lib\\site-packages (from matplotlib~=3.0->gradio) (1.2.0)\n",
      "Requirement already satisfied: cycler>=0.10 in c:\\users\\yaswa\\anaconda3\\lib\\site-packages (from matplotlib~=3.0->gradio) (0.11.0)\n",
      "Requirement already satisfied: fonttools>=4.22.0 in c:\\users\\yaswa\\anaconda3\\lib\\site-packages (from matplotlib~=3.0->gradio) (4.25.0)\n",
      "Requirement already satisfied: kiwisolver>=1.0.1 in c:\\users\\yaswa\\anaconda3\\lib\\site-packages (from matplotlib~=3.0->gradio) (1.4.4)\n",
      "Requirement already satisfied: pyparsing>=2.3.1 in c:\\users\\yaswa\\anaconda3\\lib\\site-packages (from matplotlib~=3.0->gradio) (3.0.9)\n",
      "Requirement already satisfied: python-dateutil>=2.7 in c:\\users\\yaswa\\anaconda3\\lib\\site-packages (from matplotlib~=3.0->gradio) (2.8.2)\n",
      "Requirement already satisfied: intel-openmp==2021.* in c:\\users\\yaswa\\anaconda3\\lib\\site-packages (from mkl<=2021.4.0,>=2021.1.1->torch) (2021.4.0)\n",
      "Requirement already satisfied: tbb==2021.* in c:\\users\\yaswa\\anaconda3\\lib\\site-packages (from mkl<=2021.4.0,>=2021.1.1->torch) (2021.13.0)\n",
      "Requirement already satisfied: pytz>=2020.1 in c:\\users\\yaswa\\anaconda3\\lib\\site-packages (from pandas<3.0,>=1.0->gradio) (2023.3.post1)\n",
      "Requirement already satisfied: tzdata>=2022.1 in c:\\users\\yaswa\\anaconda3\\lib\\site-packages (from pandas<3.0,>=1.0->gradio) (2023.3)\n",
      "Requirement already satisfied: annotated-types>=0.4.0 in c:\\users\\yaswa\\anaconda3\\lib\\site-packages (from pydantic>=2.0->gradio) (0.7.0)\n",
      "Requirement already satisfied: pydantic-core==2.18.4 in c:\\users\\yaswa\\anaconda3\\lib\\site-packages (from pydantic>=2.0->gradio) (2.18.4)\n",
      "Requirement already satisfied: colorama in c:\\users\\yaswa\\anaconda3\\lib\\site-packages (from tqdm>=4.27->transformers) (0.4.6)\n",
      "Requirement already satisfied: click>=8.0.0 in c:\\users\\yaswa\\anaconda3\\lib\\site-packages (from typer<1.0,>=0.12->gradio) (8.1.7)\n",
      "Requirement already satisfied: shellingham>=1.3.0 in c:\\users\\yaswa\\anaconda3\\lib\\site-packages (from typer<1.0,>=0.12->gradio) (1.5.4)\n",
      "Requirement already satisfied: rich>=10.11.0 in c:\\users\\yaswa\\anaconda3\\lib\\site-packages (from typer<1.0,>=0.12->gradio) (13.7.1)\n",
      "Requirement already satisfied: starlette<0.38.0,>=0.37.2 in c:\\users\\yaswa\\anaconda3\\lib\\site-packages (from fastapi->gradio) (0.37.2)\n",
      "Requirement already satisfied: fastapi-cli>=0.0.2 in c:\\users\\yaswa\\anaconda3\\lib\\site-packages (from fastapi->gradio) (0.0.4)\n",
      "Requirement already satisfied: ujson!=4.0.2,!=4.1.0,!=4.2.0,!=4.3.0,!=5.0.0,!=5.1.0,>=4.0.1 in c:\\users\\yaswa\\anaconda3\\lib\\site-packages (from fastapi->gradio) (5.4.0)\n",
      "Requirement already satisfied: email_validator>=2.0.0 in c:\\users\\yaswa\\anaconda3\\lib\\site-packages (from fastapi->gradio) (2.2.0)\n",
      "Requirement already satisfied: charset-normalizer<4,>=2 in c:\\users\\yaswa\\anaconda3\\lib\\site-packages (from requests->transformers) (2.0.4)\n",
      "Requirement already satisfied: mpmath>=0.19 in c:\\users\\yaswa\\anaconda3\\lib\\site-packages (from sympy->torch) (1.3.0)\n",
      "Requirement already satisfied: dnspython>=2.0.0 in c:\\users\\yaswa\\anaconda3\\lib\\site-packages (from email_validator>=2.0.0->fastapi->gradio) (2.6.1)\n",
      "Requirement already satisfied: attrs>=22.2.0 in c:\\users\\yaswa\\anaconda3\\lib\\site-packages (from jsonschema>=3.0->altair<6.0,>=4.2.0->gradio) (23.1.0)\n",
      "Requirement already satisfied: jsonschema-specifications>=2023.03.6 in c:\\users\\yaswa\\anaconda3\\lib\\site-packages (from jsonschema>=3.0->altair<6.0,>=4.2.0->gradio) (2023.7.1)\n",
      "Requirement already satisfied: referencing>=0.28.4 in c:\\users\\yaswa\\anaconda3\\lib\\site-packages (from jsonschema>=3.0->altair<6.0,>=4.2.0->gradio) (0.30.2)\n",
      "Requirement already satisfied: rpds-py>=0.7.1 in c:\\users\\yaswa\\anaconda3\\lib\\site-packages (from jsonschema>=3.0->altair<6.0,>=4.2.0->gradio) (0.10.6)\n",
      "Requirement already satisfied: six>=1.5 in c:\\users\\yaswa\\anaconda3\\lib\\site-packages (from python-dateutil>=2.7->matplotlib~=3.0->gradio) (1.16.0)\n",
      "Requirement already satisfied: markdown-it-py>=2.2.0 in c:\\users\\yaswa\\anaconda3\\lib\\site-packages (from rich>=10.11.0->typer<1.0,>=0.12->gradio) (2.2.0)\n",
      "Requirement already satisfied: pygments<3.0.0,>=2.13.0 in c:\\users\\yaswa\\anaconda3\\lib\\site-packages (from rich>=10.11.0->typer<1.0,>=0.12->gradio) (2.15.1)\n",
      "Requirement already satisfied: httptools>=0.5.0 in c:\\users\\yaswa\\anaconda3\\lib\\site-packages (from uvicorn[standard]>=0.12.0->fastapi->gradio) (0.6.1)\n",
      "Requirement already satisfied: python-dotenv>=0.13 in c:\\users\\yaswa\\anaconda3\\lib\\site-packages (from uvicorn[standard]>=0.12.0->fastapi->gradio) (0.21.0)\n",
      "Requirement already satisfied: watchfiles>=0.13 in c:\\users\\yaswa\\anaconda3\\lib\\site-packages (from uvicorn[standard]>=0.12.0->fastapi->gradio) (0.22.0)\n",
      "Requirement already satisfied: mdurl~=0.1 in c:\\users\\yaswa\\anaconda3\\lib\\site-packages (from markdown-it-py>=2.2.0->rich>=10.11.0->typer<1.0,>=0.12->gradio) (0.1.0)\n",
      "Note: you may need to restart the kernel to use updated packages.\n"
     ]
    }
   ],
   "source": [
    "pip install gradio transformers torch\n"
   ]
  },
  {
   "cell_type": "code",
   "execution_count": 4,
   "id": "ffcbddcb-c612-4d8a-9f39-25c93ee3b105",
   "metadata": {},
   "outputs": [
    {
     "name": "stdout",
     "output_type": "stream",
     "text": [
      "Running on local URL:  http://127.0.0.1:7862\n",
      "\n",
      "To create a public link, set `share=True` in `launch()`.\n"
     ]
    },
    {
     "data": {
      "text/html": [
       "<div><iframe src=\"http://127.0.0.1:7862/\" width=\"100%\" height=\"500\" allow=\"autoplay; camera; microphone; clipboard-read; clipboard-write;\" frameborder=\"0\" allowfullscreen></iframe></div>"
      ],
      "text/plain": [
       "<IPython.core.display.HTML object>"
      ]
     },
     "metadata": {},
     "output_type": "display_data"
    }
   ],
   "source": [
    "import gradio as gr\n",
    "from uuid import uuid4\n",
    "\n",
    "gitam_examples = [\n",
    "    \"What are the different undergraduate programs offered at GITAM University?\",\n",
    "    \"How can I apply for GITAM admission?\",\n",
    "    \"Can you tell me about the campus facilities?\",\n",
    "    \"What is the fee structure at GITAM University?\",\n",
    "    \"Do you offer any scholarships?\",\n",
    "    \"Where can I find more information on research opportunities?\",\n",
    "    \"How do I contact the International Affairs Office?\",\n",
    "    \"Can you provide information on student housing?\",\n",
    "    \"Tell me about hostel life at GITAM.\",\n",
    "    \"What are the important dates for admission?\",\n",
    "    \"What are the Ph.D. programs available?\",\n",
    "    \"What is the admission process for international students?\",\n",
    "    \"How do I contact the university?\"\n",
    "]\n",
    "keyword_categories = {\n",
    "    \"Library\": [\"library resources\", \"study materials\", \"digital library\", \"book lending\", \"research support\", \"reading rooms\", \"library services\", \"academic journals\", \"library hours\", \"e-books\", \"online databases\", \"library catalog\", \"reference services\", \"library facilities\"],\n",
    "    \"Placements\": [\"placements\", \"placement assistance\", \"career development\", \"career guidance\", \"job opportunities\", \"employment support\"],\n",
    "    \"Transport Facilities\": [\"transport facilities\", \"bus service\", \"shuttle service\", \"transportation options\", \"commuting options\", \"campus transport\", \"transportation facilities\"],\n",
    "    \"Safety & Security\": [\"safety measures\", \"security measures\", \"campus security\", \"security services\", \"emergency procedures\", \"safety protocols\"],\n",
    "    \"Apply\": [\"apply for admission\", \"application process\", \"admission requirements\", \"online application\", \"submit application\", \"application form\", \"application deadline\", \"admission procedure\"],\n",
    "    \"Gitam School of Architecture\": [\"architecture program\", \"BArch\", \"M.Arch\", \"architecture courses\", \"design studio\", \"architectural theory\", \"building construction\", \"urban planning\", \"landscape architecture\"],\n",
    "    \"Application/Documents\": [\"application process\", \"required documents\", \"admission forms\", \"submission deadlines\", \"application status\", \"transcripts\", \"recommendation letters\", \"personal statement\"],\n",
    "    \"Hostel Life\": [\"hostel\", \"hostels\", \"accommodation\", \"residence halls\", \"living on campus\", \"roommates\", \"facilities\", \"food options\", \"rules and regulations\"],\n",
    "    \"fee\": [\"fee\", \"fees\", \"refund\"],\n",
    "    \"scholarship\": [\"scholarship\", \"scholarships\", \"financial aid\"],\n",
    "    \"international_affairs\": [\"international students\", \"global programs\", \"study abroad\", \"visa assistance\", \"cross-cultural support\"],\n",
    "    \"academic\": [\"programs\", \"courses\", \"degrees\", \"disciplines\", \"undergraduate\", \"postgraduate\", \"ph.d.\", \"doctorate\"],\n",
    "    \"application\": [\"apply\", \"admission\", \"admissions\", \"application\"],\n",
    "    \"campus\": [\"campus\", \"facilities\", \"location\", \"hostel\", \"housing\", \"life\"],\n",
    "    \"faculty\": [\"faculty\", \"professors\", \"teachers\"],\n",
    "    \"learning\": [\"learning\", \"courses\", \"online\"],\n",
    "    \"career\": [\"placement\", \"job\", \"career\"],\n",
    "    \"life\": [\"life\", \"housing\", \"sports\", \"dining\", \"security\", \"transport\"],\n",
    "    \"research\": [\"research\", \"projects\", \"PhD\", \"doctorate\"],\n",
    "    \"entrepreneurship\": [\"entrepreneurship\", \"startup\", \"business\"],\n",
    "    \"accreditation\": [\"accreditation\", \"rankings\", \"recognition\"],\n",
    "    \"alumni\": [\"alumni\", \"graduates\", \"network\"],\n",
    "    \"parents\": [\"parents\", \"guardian\", \"family\"],\n",
    "    \"leadership\": [\"leadership\", \"administration\", \"staff\"],\n",
    "    \"dates\": [\"dates\", \"schedule\", \"calendar\"],\n",
    "    \"contact\": [\"contact\", \"phone\", \"email\"],\n",
    "    \"Postgraduate\": {\n",
    "        \"architecture\": [\"M.Arch\", \"Master of Architecture\", \"architecture\"],\n",
    "        \"engineering\": [\"M.Tech\", \"Master of Technology\", \"engineering\"],\n",
    "        \"humanities\": [\"MA\", \"Master of Arts\", \"humanities\"],\n",
    "        \"law\": [\"LLM\", \"Master of Laws\", \"law\"],\n",
    "        \"management\": [\"MBA\", \"Master of Business Administration\", \"management\"],\n",
    "        \"medicine\": [\"MD\", \"Doctor of Medicine\", \"MS\", \"Master of Surgery\", \"medicine\"],\n",
    "        \"nursing\": [\"MSc Nursing\", \"Master of Science in Nursing\", \"nursing\"],\n",
    "        \"paramedical\": [\"MPT\", \"Master of Physiotherapy\", \"MSc MLT\", \"Master of Science in Medical Laboratory Technology\", \"paramedical\"],\n",
    "        \"pharmacy\": [\"MPharm\", \"Master of Pharmacy\", \"PharmD\", \"Doctor of Pharmacy\", \"pharmacy\"],\n",
    "        \"physiotherapy\": [\"MPT\", \"Master of Physiotherapy\", \"physiotherapy\"],\n",
    "        \"public_policy\": [\"MPP\", \"Master of Public Policy\", \"public policy\"],\n",
    "        \"science\": [\"MSc\", \"Master of Science\", \"science\"]\n",
    "    },\n",
    "    \"Undergraduate\": {\n",
    "        \"BTech\": {\n",
    "            \"CSE\": [\"Computer Science and Engineering\", \"Artificial Intelligence and Machine Learning (AIML)\", \"Data Science\", \"Cyber Security\", \"Internet of Things (IoT)\", \"Software Engineering\"],\n",
    "            \"ECE\": [\"Electronics and Communication Engineering\", \"Embedded Systems\", \"VLSI Design\", \"Signal Processing\", \"Telecommunications\"],\n",
    "            \"EEE\": [\"Electrical and Electronics Engineering\", \"Power Systems\", \"Control Systems\", \"Renewable Energy\"],\n",
    "            \"ME\": [\"Mechanical Engineering\", \"Automobile Engineering\", \"Robotics\", \"Thermal Engineering\", \"Manufacturing\"],\n",
    "            \"CE\": [\"Civil Engineering\", \"Structural Engineering\", \"Construction Management\", \"Environmental Engineering\"],\n",
    "            \"IT\": [\"Information Technology\", \"Network Security\", \"Cloud Computing\", \"Web Technologies\"],\n",
    "            \"Biotech\": [\"Biotechnology\", \"Biochemical Engineering\", \"Genetic Engineering\"],\n",
    "            \"Chemical\": [\"Chemical Engineering\", \"Process Engineering\", \"Petrochemical Engineering\"]\n",
    "        },\n",
    "        \"Architecture\": [\"BArch\", \"Bachelor of Architecture\"],\n",
    "        \"Engineering\": [\"BEng\", \"Bachelor of Engineering in various specializations\"],\n",
    "        \"Humanities\": [\"BA\", \"Bachelor of Arts in various fields such as English, Economics, Psychology\"],\n",
    "        \"Law\": [\"LLB\", \"Bachelor of Laws\", \"BA LLB\", \"Integrated Bachelor of Arts and Bachelor of Laws\"],\n",
    "        \"Management\": [\"BBA\", \"Bachelor of Business Administration\", \"BCom\", \"Bachelor of Commerce\"],\n",
    "        \"Medicine\": [\"MBBS\", \"Bachelor of Medicine, Bachelor of Surgery\"],\n",
    "        \"Nursing\": [\"BSc Nursing\", \"Bachelor of Science in Nursing\"],\n",
    "        \"Paramedical\": [\"BPT\", \"Bachelor of Physiotherapy\", \"BSc MLT\", \"Bachelor of Science in Medical Laboratory Technology\"],\n",
    "        \"Pharmacy\": [\"BPharm\", \"Bachelor of Pharmacy\", \"PharmD\", \"Doctor of Pharmacy\"],\n",
    "        \"Physiotherapy\": [\"BPT\", \"Bachelor of Physiotherapy\"],\n",
    "        \"Public Policy\": [\"BPP\", \"Bachelor of Public Policy\"],\n",
    "        \"Science\": [\"BSc\", \"Bachelor of Science in various fields such as Physics, Chemistry, Mathematics, Biology\"]\n",
    "    }\n",
    "}\n",
    "\n",
    "responses = {\n",
    "    \"Library\":\"Explore Gitam University's library offerings, featuring extensive digital collections, academic journals, e-books, and online databases tailored to support your research and study needs. Visit https://library.gitam.edu/ to learn more.\",\n",
    "    \"Placements\": \"At GITAM University, our Career Development Center is committed to enhancing both personal and professional skills, ensuring that students are fully prepared for successful careers. With 100% placement assistance, we aim to support students in reaching their career aspirations. For more information on our placement initiatives, please visit [GITAM Career Guidance Center](https://www.gitam.edu/gitam-career-guidance-center).\",\n",
    "    \"Transport Facilities\": \"For your convenience, Gitam campuses provide extensive transport facilities including bus and shuttle services. These services ensure easy commuting for students and staff within and around the campus. For more details, visit https://www.gitam.edu/campus-life/transport-facilities.\",\n",
    "    \"Safety & Security\": \"At Gitam, your safety is our priority. We have implemented robust safety measures and security arrangements, including comprehensive emergency protocols and surveillance systems, to ensure a secure environment for our students. Learn more at https://www.gitam.edu/campus-life/safety-security.\",\n",
    "    \"Apply\": \"For the Gitam Admission Test (GAT), applicants can apply by following these steps: register for the exam, choose their exam date, time, and centre, download their admit card, take the GAT exam, check their results, and attend counselling if they pass. Merit scholarships, awarded based on GAT scores, can cover up to 100% of the first-year fee and are renewable annually with a CGPA of 8.0 or higher. Apply at https://apply.gitam.edu/.\",\n",
    "    \"Application/Documents\": \"Applying for the GAT/GBAT at GITAM involves exploring program options, registering securely online, ensuring all required documents are gathered, verifying details thoroughly, and printing the completed form after payment.\",\n",
    "    \"Hostel Life\": \"Gitam University's hostels offer comfortable accommodation equipped with amenities such as mess facilities, Wi-Fi access, and recreational areas, fostering a homely environment for students. For more details, visit the hostel facilities page on the Gitam website: https://www.gitam.edu/campus-life/residential-life.\",\n",
    "    \"fee\": \"For detailed fee structure information at GITAM University, visit their official admissions page at https://www.gitam.edu/admissions/fee-structure. This page provides comprehensive details on fees for various programs, including scholarships and payment schedules, making it the best resource for understanding financial requirements for your education at GITAM.\",\n",
    "    \"scholarship\": \"GITAM University offers various scholarships, including financial aid, merit scholarships for academic and extracurricular excellence, and sports scholarships to support student athletes. For more details, visit https://www.gitam.edu/admissions/student-scholarships.\",\n",
    "    \"international_affairs\": \"GITAM University's dedicated International Affairs Office supports international students with admissions, visa processes, and comprehensive assistance services. For more information, visit the international students' page on the Gitam website: https://www.gitam.edu/directorate-of-international-affairs.\",\n",
    "    \"academic\":\"GITAM University offers a wide range of undergraduate, postgraduate, and doctoral programs spanning diverse disciplines. For more information, visit the academic programs page on the official website: https://www.gitam.edu/academics.\",\n",
    "    \"application\": \"To apply for admission, visit the Gitam University admissions page. You'll find detailed information on the application process, eligibility criteria, and important deadlines.\",\n",
    "    \"campus\": \"GITAM University's campuses are equipped with state-of-the-art facilities including libraries, laboratories, sports complexes, and more. For more details, visit the campus facilities page.\",\n",
    "    \"faculty\": \"GITAM University boasts a team of highly qualified and experienced faculty members who are dedicated to providing quality education. For more information, visit the faculty page on the official website.\",\n",
    "    \"learning\": \"GITAM University offers a variety of learning opportunities including online courses, workshops, and seminars to enhance students' knowledge and skills. For more details, visit the learning resources page.\",\n",
    "    \"career\": \"GITAM University's Career Development Center provides placement assistance, career guidance, and job opportunities to help students achieve their professional goals. For more information, visit the career services page.\",\n",
    "    \"life\": \"Campus life at GITAM University is vibrant and diverse, with numerous activities, events, and organizations to engage students. For more details, visit the campus life page.\",\n",
    "    \"research\": \"GITAM University offers extensive research opportunities across various disciplines. For more details, visit the research programs page on the https://www.gitam.edu/research.\",\n",
    "    \"entrepreneurship\": \"GITAM University supports entrepreneurship through various initiatives and programs to nurture startup ideas and business ventures. For more details, visit the entrepreneurship center page  https://gventurefunds.gitam.edu/home/.\",\n",
    "    \"accreditation\": \"GITAM University is accredited and recognized by various national and international bodies. For more details, visit the accreditation and rankings page  https://www.gitam.edu/about/accreditation.\",\n",
    "    \"alumni\": \"GITAM University boasts a robust network of alumni who have excelled in diverse fields, contributing significantly to their professions and communities. For detailed information, please explore the alumni page on the official website: https://alumni.gitam.edu/. Learn about their inspiring journeys and accomplishments, and discover how they continue to make a positive impact globally.\",\n",
    "    \"parents\": \"GITAM University provides various resources and support services for parents and guardians. For more details, visit the parents' information page  https://gparent.gitam.edu/login.\",\n",
    "    \"leadership\": \"GITAM University, founded by M.V.V.S Murthi and currently led by M.Bharat as President, Virender Singh Chauhan as Chancellor, Mathukumilli Bharadwaj as Secretary, and Dayananda Siddavattam as Vice-Chancellor, is guided by a team of experienced administrators and staff. For more details, visit the leadership page on the official website: https://www.gitam.edu/about/leadership.\",\n",
    "    \"Undergraduate\": \"GITAM University offers a diverse range of undergraduate programs across various disciplines. In engineering, you can choose from specialties like Computer Science and Engineering (including AI and Machine Learning, Data Science, Cyber Security), Electronics and Communication Engineering, Electrical and Electronics Engineering, Mechanical Engineering, Civil Engineering, and more. Additionally, we provide programs in Architecture, Humanities, Law, Management, Medicine, Nursing, Paramedical studies, Pharmacy, Physiotherapy, Public Policy, and various fields of Science. Explore our offerings to find the perfect fit for your academic and career goals!\",\n",
    "    \"dates\": \"The schedule for admissions includes the following dates: the last date to apply is 14th June 2024, the examination is scheduled for 16th June 2024, personal interviews will be conducted from 17th to 19th June 2024, and results will be announced on 17th June 2024.\",\n",
    "    \"contact\":\"For any inquiries or support, you can contact GITAM University at 08912790101 or via email. Feel free to visit the contact page at [https://www.gitam.edu/contact-us](https://www.gitam.edu/contact-us) for more detailed information and assistance.\",\n",
    "}\n",
    "def categorize_query(user_message):\n",
    "    user_message_lower = user_message.lower()\n",
    "    for category, keywords in keyword_categories.items():\n",
    "        if any(keyword in user_message_lower for keyword in keywords):\n",
    "            return category\n",
    "    return None\n",
    "\n",
    "def generate_response(category):\n",
    "    if category in responses:\n",
    "        return responses[category]\n",
    "    else:\n",
    "        return \"Please ask relevant details about GITAM University.\"\n",
    "\n",
    "def user(message, history):\n",
    "    history = history + [[message, \"\"]]\n",
    "    return \"\", history\n",
    "\n",
    "def bot(history, temperature, top_p, top_k, repetition_penalty, conversation_id):\n",
    "    user_message = history[-1][0]\n",
    "    category = categorize_query(user_message)\n",
    "    \n",
    "    if category:\n",
    "        response = generate_response(category)\n",
    "    else:\n",
    "        response = \"Please ask relevant details about GITAM University.\"\n",
    "    \n",
    "    # Update the last user message with the bot's response\n",
    "    history[-1][1] = response\n",
    "    yield history\n",
    "\n",
    "def request_cancel():\n",
    "    return None\n",
    "\n",
    "with gr.Blocks() as demo:\n",
    "    conversation_id = gr.State(str(uuid4()))\n",
    "\n",
    "    gr.Markdown(\"\"\"\n",
    "        <div style=\"background-color: #f0f8ff; padding: 20px; border-radius: 10px; display: flex; align-items: center;\">\n",
    "            <div style=\"flex: 1;\">\n",
    "                <h1>Gitam University Query Assistant</h1>\n",
    "                <p>Ask anything about GITAM University and get instant answers.</p>\n",
    "            </div>\n",
    "            <img src=\"https://i.postimg.cc/pXqxv07h/Gitam-New-Logo.jpg\" alt=\"Gitam University Logo\" style=\"height: 100px; margin-left: 20px;\">\n",
    "        </div>\n",
    "    \"\"\")\n",
    "    chatbot = gr.Chatbot(value=[[\"Hello, Welcome to Gitam University. How can I help you?\", \"\"]])\n",
    "    with gr.Row():\n",
    "        msg = gr.Textbox(\n",
    "            show_label=False,\n",
    "            placeholder=\"Enter your query and press enter.\",\n",
    "        )\n",
    "        submit = gr.Button(\"Submit\")\n",
    "    \n",
    "    with gr.Row():\n",
    "        stop = gr.Button(\"Stop\")\n",
    "        clear = gr.Button(\"Clear\")\n",
    "    \n",
    "    with gr.Row():\n",
    "        with gr.Column():\n",
    "            temperature = gr.Slider(\n",
    "                label=\"Temperature\",\n",
    "                value=0.9,\n",
    "                minimum=0.1,\n",
    "                maximum=1.0,\n",
    "                step=0.1,\n",
    "                interactive=True,\n",
    "                info=\"Randomness of the response — higher values mean more random responses.\",\n",
    "            )\n",
    "        with gr.Column():\n",
    "            top_p = gr.Slider(\n",
    "                label=\"Top-p (nucleus sampling)\",\n",
    "                value=0.9,\n",
    "                minimum=0.05,\n",
    "                maximum=1.0,\n",
    "                step=0.05,\n",
    "                interactive=True,\n",
    "                info=\"Sample from the top-p percentage of most likely tokens.\",\n",
    "            )\n",
    "        with gr.Column():\n",
    "            top_k = gr.Slider(\n",
    "                label=\"Top-k\",\n",
    "                value=50,\n",
    "                minimum=1,\n",
    "                maximum=100,\n",
    "                step=1,\n",
    "                interactive=True,\n",
    "                info=\"Sample from a shortlist of top-k tokens — 0 to disable and sample from all tokens.\",\n",
    "            )\n",
    "        with gr.Column():\n",
    "            repetition_penalty = gr.Slider(\n",
    "                label=\"Repetition Penalty\",\n",
    "                value=1.1,\n",
    "                minimum=1.0,\n",
    "                maximum=2.0,\n",
    "                step=0.1,\n",
    "                interactive=True,\n",
    "                info=\"Penalize repetition — 1.0 to disable.\",\n",
    "            )\n",
    "    \n",
    "    gr.Examples(gitam_examples, inputs=msg, label=\"Click on any example and press the 'Submit' button\")\n",
    "    \n",
    "    submit_event = msg.submit(\n",
    "        fn=user,\n",
    "        inputs=[msg, chatbot],\n",
    "        outputs=[msg, chatbot],\n",
    "        queue=False,\n",
    "    ).then(\n",
    "        fn=bot,\n",
    "        inputs=[\n",
    "            chatbot,\n",
    "            temperature,\n",
    "            top_p,\n",
    "            top_k,\n",
    "            repetition_penalty,\n",
    "            conversation_id,\n",
    "        ],\n",
    "        outputs=chatbot,\n",
    "        queue=True,\n",
    "    )\n",
    "    \n",
    "    submit_click_event = submit.click(\n",
    "        fn=user,\n",
    "        inputs=[msg, chatbot],\n",
    "        outputs=[msg, chatbot],\n",
    "        queue=False,\n",
    "    ).then(\n",
    "        fn=bot,\n",
    "        inputs=[\n",
    "            chatbot,\n",
    "            temperature,\n",
    "            top_p,\n",
    "            top_k,\n",
    "            repetition_penalty,\n",
    "            conversation_id,\n",
    "        ],\n",
    "        outputs=chatbot,\n",
    "        queue=True,\n",
    "    )\n",
    "    \n",
    "    stop.click(\n",
    "        fn=request_cancel,\n",
    "        inputs=None,\n",
    "        outputs=None,\n",
    "        cancels=[submit_event, submit_click_event],\n",
    "        queue=False,\n",
    "    )\n",
    "    clear.click(lambda: None, None, chatbot, queue=False)\n",
    "    \n",
    "    gr.Markdown(\"<div style='text-align: center;'><span style='color: #1E90FF; font-size: larger; font-weight: bold;'>Created by Team Jithendhra</span></div>\")\n",
    "    gr.Markdown(\"\"\"\n",
    "    <div style=\"display: flex; justify-content: center;\">\n",
    "        <a href=\"https://in.linkedin.com/in/poluru-sai-chaithanya-b5b174270\" style=\"color: black; font-size: small; font-weight: bold; text-align: center; margin: 0 10px;\">\n",
    "            Poluru Sai Chaitanya <img src=\"https://upload.wikimedia.org/wikipedia/commons/0/01/LinkedIn_Logo.svg\" width=\"50\" height=\"50\" style=\"vertical-align: middle;\">\n",
    "        </a>\n",
    "        <a href=\"https://in.linkedin.com/in/ramireddy-yaswanth-reddy\" style=\"color: black; font-size: small; font-weight: bold; text-align: center; margin: 0 10px;\">\n",
    "            Ramireddygari Yaswanth Reddy <img src=\"https://upload.wikimedia.org/wikipedia/commons/0/01/LinkedIn_Logo.svg\" width=\"50\" height=\"50\" style=\"vertical-align: middle;\">\n",
    "        </a>\n",
    "        <a href=\"https://www.linkedin.com/in/jithendhralalam/\" style=\"color: black; font-size: small; font-weight: bold; text-align: center; margin: 0 10px;\">\n",
    "            Lalam Jithendhra <img src=\"https://upload.wikimedia.org/wikipedia/commons/0/01/LinkedIn_Logo.svg\" width=\"50\" height=\"50\" style=\"vertical-align: middle;\">\n",
    "        </a>\n",
    "    </div>\n",
    "\"\"\")\n",
    "\n",
    "    demo.launch()"
   ]
  },
  {
   "cell_type": "code",
   "execution_count": null,
   "id": "6c2ca6ad-bf18-4453-bc08-02a779e082dc",
   "metadata": {},
   "outputs": [],
   "source": []
  }
 ],
 "metadata": {
  "kernelspec": {
   "display_name": "Python 3 (ipykernel)",
   "language": "python",
   "name": "python3"
  },
  "language_info": {
   "codemirror_mode": {
    "name": "ipython",
    "version": 3
   },
   "file_extension": ".py",
   "mimetype": "text/x-python",
   "name": "python",
   "nbconvert_exporter": "python",
   "pygments_lexer": "ipython3",
   "version": "3.11.7"
  }
 },
 "nbformat": 4,
 "nbformat_minor": 5
}
